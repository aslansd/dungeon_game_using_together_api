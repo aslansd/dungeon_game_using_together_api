{
 "cells": [
  {
   "cell_type": "markdown",
   "id": "d0a04e3c-be0b-4551-bcd5-7265b5beeddd",
   "metadata": {
    "id": "173e06c5-4b07-4e3b-a67a-5c3e141beb2c"
   },
   "source": [
    "# A Dungeon Game Using Together API"
   ]
  },
  {
   "cell_type": "code",
   "execution_count": 1,
   "id": "ac57c878",
   "metadata": {},
   "outputs": [
    {
     "name": "stderr",
     "output_type": "stream",
     "text": [
      "/opt/anaconda3/envs/dungeon/lib/python3.11/site-packages/tqdm/auto.py:21: TqdmWarning: IProgress not found. Please update jupyter and ipywidgets. See https://ipywidgets.readthedocs.io/en/stable/user_install.html\n",
      "  from .autonotebook import tqdm as notebook_tqdm\n"
     ]
    }
   ],
   "source": [
    "import os\n",
    "from dotenv import load_dotenv, find_dotenv\n",
    "import json\n",
    "import gradio as gr\n",
    "from together import Together                                                                                                                              \n",
    "\n",
    "def load_env():\n",
    "    _ = load_dotenv(find_dotenv())\n",
    "\n",
    "def load_world(filename):\n",
    "    with open(filename, 'r') as f:\n",
    "        return json.load(f)\n",
    "    \n",
    "def save_world(world, filename):\n",
    "    with open(filename, 'w') as f:\n",
    "        json.dump(world, f)\n",
    "\n",
    "def get_together_api_key():\n",
    "     load_env()\n",
    "     together_api_key = os.getenv(\"TOGETHER_API_KEY\")\n",
    "     return together_api_key"
   ]
  },
  {
   "cell_type": "code",
   "execution_count": null,
   "id": "4fcbce8a",
   "metadata": {},
   "outputs": [],
   "source": [
    "os.environ[\"TOGETHER_API_KEY\"] = \"your_api_key\"\n",
    "\n",
    "client = Together(api_key=get_together_api_key()) "
   ]
  },
  {
   "cell_type": "markdown",
   "id": "323106c8",
   "metadata": {},
   "source": [
    "## Creating a World"
   ]
  },
  {
   "cell_type": "code",
   "execution_count": 3,
   "id": "275a62a8",
   "metadata": {},
   "outputs": [],
   "source": [
    "system_prompt = f\"\"\"\n",
    "Your job is to help create interesting fantasy worlds that \\\n",
    "players would love to play in.\n",
    "Instructions:\n",
    "- Only generate in plain text without formatting.\n",
    "- Use simple clear language without being flowery.\n",
    "- You must stay below 3-5 sentences for each description.\n",
    "\"\"\""
   ]
  },
  {
   "cell_type": "code",
   "execution_count": 4,
   "id": "c760bc33",
   "metadata": {},
   "outputs": [],
   "source": [
    "world_prompt = f\"\"\"\n",
    "Generate a creative description for a unique fantasy world with an\n",
    "interesting concept around cities build on the backs of massive beasts.\n",
    "\n",
    "Output content in the form:\n",
    "World Name: <WORLD NAME>\n",
    "World Description: <WORLD DESCRIPTION>\n",
    "\n",
    "World Name:\"\"\""
   ]
  },
  {
   "cell_type": "code",
   "execution_count": 5,
   "id": "826e00db",
   "metadata": {},
   "outputs": [],
   "source": [
    "output = client.chat.completions.create(\n",
    "    model=\"deepseek-ai/DeepSeek-V3\",\n",
    "    messages=[\n",
    "        {\"role\": \"system\", \"content\": system_prompt},\n",
    "        {\"role\": \"user\", \"content\": world_prompt},\n",
    "    ],\n",
    ")"
   ]
  },
  {
   "cell_type": "code",
   "execution_count": 6,
   "id": "6d773102",
   "metadata": {},
   "outputs": [
    {
     "name": "stdout",
     "output_type": "stream",
     "text": [
      "World Name: Behemothia  \n",
      "World Description: In Behemothia, cities are built on the backs of colossal, ancient beasts that roam the land. Each beast has its own unique ecosystem, and the cities adapt to their movements and behaviors. The people live in harmony with these creatures, relying on them for protection and resources.\n"
     ]
    }
   ],
   "source": [
    "world_output = output.choices[0].message.content\n",
    "print(world_output)"
   ]
  },
  {
   "cell_type": "code",
   "execution_count": 7,
   "id": "3dbe0914",
   "metadata": {},
   "outputs": [],
   "source": [
    "world_output = world_output.strip()\n",
    "world = {\n",
    "    \"name\": world_output.split('\\n')[0].strip().replace('World Name: ', ''),\n",
    "    \"description\": '\\n'.join(world_output.split('\\n')[1:]).replace('World Description:', '').strip()\n",
    "}"
   ]
  },
  {
   "cell_type": "markdown",
   "id": "f4d5cde5",
   "metadata": {},
   "source": [
    "## Generating Kingdoms"
   ]
  },
  {
   "cell_type": "code",
   "execution_count": 8,
   "id": "fd1c8d73",
   "metadata": {},
   "outputs": [],
   "source": [
    "kingdom_prompt = f\"\"\"\n",
    "Create 3 different kingdoms for a fantasy world.\n",
    "For each kingdom generate a description based on the world it's in.\n",
    "Describe important leaders, cultures, and history of the kingdoms.\n",
    "Describe the history of war and peace between these kingdoms.\n",
    "These kingdoms fight with each other to acquire the following 8 items:\n",
    "gun, rose, socks, pants, short, hat, web, and gold resources.\n",
    "\n",
    "Output content in the form:\n",
    "Kingdom 1 Name: <KINGDOM NAME>\n",
    "Kingdom 1 Description: <KINGDOM DESCRIPTION>\n",
    "Kingdom 2 Name: <KINGDOM NAME>\n",
    "Kingdom 2 Description: <KINGDOM DESCRIPTION>\n",
    "Kingdom 3 Name: <KINGDOM NAME>\n",
    "Kingdom 3 Description: <KINGDOM DESCRIPTION>\n",
    "\n",
    "World Name: {world['name']}\n",
    "World Description: {world['description']}\n",
    "\n",
    "Kingdom 1\"\"\""
   ]
  },
  {
   "cell_type": "code",
   "execution_count": 9,
   "id": "86c0d348",
   "metadata": {},
   "outputs": [],
   "source": [
    "output = client.chat.completions.create(\n",
    "    model=\"deepseek-ai/DeepSeek-V3\",\n",
    "    messages=[\n",
    "        {\"role\": \"system\", \"content\": system_prompt},\n",
    "        {\"role\": \"user\", \"content\": kingdom_prompt}\n",
    "    ],\n",
    ")"
   ]
  },
  {
   "cell_type": "code",
   "execution_count": 10,
   "id": "20598a0d",
   "metadata": {},
   "outputs": [
    {
     "name": "stdout",
     "output_type": "stream",
     "text": [
      "Created kingdom \"Zephyria\" in Behemothia\n",
      "Created kingdom \"Terranox\" in Behemothia\n",
      "Created kingdom \"Aquarion\" in Behemothia\n",
      "Created kingdom \"Behemothia\" in Behemothia\n",
      "\n",
      "Kingdom 1 Description: In Behemothia, cities are built on the backs of colossal, ancient beasts that roam the land. Each beast has its own unique ecosystem, and the cities adapt to their movements and behaviors. The people live in harmony with these creatures, relying on them for protection and resources.\n"
     ]
    }
   ],
   "source": [
    "kingdoms = {}\n",
    "kingdoms_output = output.choices[0].message.content\n",
    "\n",
    "for output in kingdoms_output.split('\\n\\n'):\n",
    "  kingdom_name = output.strip().split('\\n')[0].split('Name: ')[1].strip()\n",
    "  print(f'Created kingdom \"{kingdom_name}\" in {world[\"name\"]}')\n",
    "  \n",
    "  kingdom_description = output.strip().split('\\n')[1].split('Description: ')[1].strip()\n",
    "  \n",
    "  kingdom = {\n",
    "      \"name\": kingdom_name,\n",
    "      \"description\": kingdom_description,\n",
    "      \"world\": world['name'],\n",
    "  }\n",
    "  \n",
    "  kingdoms[kingdom_name] = kingdom\n",
    "\n",
    "world['kingdoms'] = kingdoms\n",
    "\n",
    "print(f'\\nKingdom 1 Description: {kingdom[\"description\"]}')"
   ]
  },
  {
   "cell_type": "markdown",
   "id": "d7fbc6f9",
   "metadata": {},
   "source": [
    "## Generating Towns"
   ]
  },
  {
   "cell_type": "code",
   "execution_count": 11,
   "id": "c6f94f15",
   "metadata": {},
   "outputs": [],
   "source": [
    "def get_town_prompt(world, kingdom):\n",
    "    return f\"\"\"\n",
    "    Create 3 different towns for a fantasy kingdom and world. \\\n",
    "    Describe the region it's in, important places of the town, \\\n",
    "    and interesting history about it. \\\n",
    "    \n",
    "    Output content in the form:\n",
    "    Town 1 Name: <TOWN NAME>\n",
    "    Town 1 Description: <TOWN DESCRIPTION>\n",
    "    Town 2 Name: <TOWN NAME>\n",
    "    Town 2 Description: <TOWN DESCRIPTION>\n",
    "    Town 3 Name: <TOWN NAME>\n",
    "    Town 3 Description: <TOWN DESCRIPTION>\n",
    "    \n",
    "    World Name: {world['name']}\n",
    "    World Description: {world['description']}\n",
    "    \n",
    "    Kingdom Name: {kingdom['name']}\n",
    "    Kingdom Description {kingdom['description']}\n",
    "    \n",
    "    Town 1 Name:\"\"\""
   ]
  },
  {
   "cell_type": "code",
   "execution_count": 12,
   "id": "1f53dc0d",
   "metadata": {},
   "outputs": [],
   "source": [
    "def create_towns(world, kingdom):\n",
    "    print(f'\\nCreating towns for kingdom: {kingdom[\"name\"]}...')\n",
    "    \n",
    "    output = client.chat.completions.create(\n",
    "      model=\"deepseek-ai/DeepSeek-V3\",\n",
    "      messages=[\n",
    "          {\"role\": \"system\", \"content\": system_prompt},\n",
    "          {\"role\": \"user\", \"content\": get_town_prompt(world, kingdom)},\n",
    "      ],\n",
    "    )\n",
    "    \n",
    "    towns_output = output.choices[0].message.content\n",
    "    \n",
    "    towns = {}\n",
    "    for output in towns_output.split('\\n\\n'):\n",
    "        town_name = output.strip().split('\\n')[0].split('Name: ')[1].strip()\n",
    "        print(f'- {town_name} created')\n",
    "        \n",
    "        town_description = output.strip().split('\\n')[1].split('Description: ')[1].strip()\n",
    "        \n",
    "        town = {\n",
    "          \"name\": town_name,\n",
    "          \"description\": town_description,\n",
    "          \"world\": world['name'],\n",
    "          \"kingdom\": kingdom['name'],\n",
    "        }\n",
    "        \n",
    "        towns[town_name] = town\n",
    "    \n",
    "    kingdom[\"towns\"] = towns"
   ]
  },
  {
   "cell_type": "code",
   "execution_count": 13,
   "id": "1cf8474a",
   "metadata": {},
   "outputs": [
    {
     "name": "stdout",
     "output_type": "stream",
     "text": [
      "\n",
      "Creating towns for kingdom: Zephyria...\n",
      "- Skyhaven created\n",
      "- Galeport created\n",
      "- Featherfall created\n",
      "\n",
      "Creating towns for kingdom: Terranox...\n",
      "- Ironhold created\n",
      "- Verdant Vale created\n",
      "- Emberwatch created\n",
      "\n",
      "Creating towns for kingdom: Aquarion...\n",
      "- Tidehaven created\n",
      "- Deepshade created\n",
      "- Wavecrest created\n",
      "\n",
      "Creating towns for kingdom: Behemothia...\n",
      "- Shellhaven created\n",
      "- Embercliff created\n",
      "- Windspire created\n",
      "\n",
      "Town 1 Description: Shellhaven is built on the back of a massive, turtle-like beast that moves slowly across vast plains. The town is known for its sturdy, dome-shaped homes made from the beast’s shed shells. A central market thrives on rare herbs and minerals found in the beast’s wake.\n"
     ]
    }
   ],
   "source": [
    "for kingdom in kingdoms.values():\n",
    "    create_towns(world, kingdom)  \n",
    "\n",
    "town = list(kingdom['towns'].values())[0]\n",
    "print(f'\\nTown 1 Description: {town[\"description\"]}')"
   ]
  },
  {
   "cell_type": "markdown",
   "id": "f817514c",
   "metadata": {},
   "source": [
    "## Generating Non-Player Characters (NPC's)"
   ]
  },
  {
   "cell_type": "code",
   "execution_count": 14,
   "id": "ad4dc010",
   "metadata": {},
   "outputs": [],
   "source": [
    "def get_npc_prompt(world, kingdom, town): \n",
    "    return f\"\"\"\n",
    "    Create 1 character based on the world, kingdom \\\n",
    "    and town they're in. Describe the character's appearance and \\\n",
    "    profession, as well as its deeper pains and desires. \\\n",
    "    \n",
    "    Output content in the form:\n",
    "    Character 1 Name: <CHARACTER NAME>\n",
    "    Character 1 Description: <CHARACTER DESCRIPTION>\n",
    "    \n",
    "    World Name: {world['name']}\n",
    "    World Description: {world['description']}\n",
    "    \n",
    "    Kingdom Name: {kingdom['name']}\n",
    "    Kingdom Description: {kingdom['description']}\n",
    "    \n",
    "    Town Name: {town['name']}\n",
    "    Town Description: {town['description']}\n",
    "    \n",
    "    Character 1 Name:\"\"\""
   ]
  },
  {
   "cell_type": "code",
   "execution_count": 15,
   "id": "055f33ad",
   "metadata": {},
   "outputs": [],
   "source": [
    "def create_npcs(world, kingdom, town):\n",
    "    print(f'\\nCreating characters for the town of: {town[\"name\"]}...')\n",
    "    \n",
    "    output = client.chat.completions.create(\n",
    "        model=\"deepseek-ai/DeepSeek-V3\",\n",
    "        messages=[\n",
    "            {\"role\": \"system\", \"content\": system_prompt},\n",
    "            {\"role\": \"user\", \"content\": get_npc_prompt(world, kingdom, town)},\n",
    "        ],\n",
    "        temperature=1,  # added to generate unique names\n",
    "    )\n",
    "\n",
    "    npcs_output = output.choices[0].message.content\n",
    "    npcs = {}\n",
    "    \n",
    "    for output in npcs_output.split('\\n\\n'):\n",
    "        try:\n",
    "            npc_name = output.strip().split('\\n')[0].split('Name: ')[1].strip()\n",
    "        except:\n",
    "            npc_name = \"Aslan\"\n",
    "            \n",
    "        print(f'- \"{npc_name}\" created')\n",
    "        \n",
    "        npc_description = output.strip().split('\\n')[1].split('Description: ')[1].strip()\n",
    "        \n",
    "        npc = {\n",
    "        \"name\": npc_name,\n",
    "        \"description\": npc_description,\n",
    "        \"world\": world['name'],\n",
    "        \"kingdom\": kingdom['name'],\n",
    "        \"town\": town['name'],\n",
    "        }\n",
    "        \n",
    "        npcs[npc_name] = npc\n",
    "    \n",
    "    town[\"npcs\"] = npcs"
   ]
  },
  {
   "cell_type": "code",
   "execution_count": 16,
   "id": "f68210a2",
   "metadata": {},
   "outputs": [
    {
     "name": "stdout",
     "output_type": "stream",
     "text": [
      "\n",
      "Creating characters for the town of: Skyhaven...\n",
      "- \"Kael Swiftwind\" created\n",
      "\n",
      "Creating characters for the town of: Galeport...\n",
      "- \"Kael Windstrider\" created\n",
      "\n",
      "Creating characters for the town of: Featherfall...\n",
      "- \"Lira Windwhisper\" created\n",
      "\n",
      "Creating characters for the town of: Ironhold...\n",
      "- \"Kael Ironshield\" created\n",
      "\n",
      "Creating characters for the town of: Verdant Vale...\n",
      "- \"Elara Mosscrest\" created\n",
      "\n",
      "Creating characters for the town of: Emberwatch...\n",
      "- \"Caelum Ashveil\" created\n",
      "\n",
      "Creating characters for the town of: Tidehaven...\n",
      "- \"Aslan\" created\n",
      "- \"Behemothia\" created\n",
      "- \"Aquarion\" created\n",
      "- \"Tidehaven\" created\n",
      "\n",
      "Creating characters for the town of: Deepshade...\n",
      "- \"Lira Swiftleaf\" created\n",
      "\n",
      "Creating characters for the town of: Wavecrest...\n",
      "- \"Kael Draven\" created\n",
      "\n",
      "Creating characters for the town of: Shellhaven...\n",
      "- \"Kael Thornweaver\" created\n",
      "\n",
      "Creating characters for the town of: Embercliff...\n",
      "- \"Kael Emberforge\" created\n",
      "\n",
      "Creating characters for the town of: Windspire...\n",
      "- \"Kael Veyin\" created\n"
     ]
    }
   ],
   "source": [
    "for kingdom in kingdoms.values():\n",
    "    for town in kingdom['towns'].values():\n",
    "        create_npcs(world, kingdom, town)"
   ]
  },
  {
   "cell_type": "code",
   "execution_count": 17,
   "id": "02a0746f",
   "metadata": {},
   "outputs": [
    {
     "name": "stdout",
     "output_type": "stream",
     "text": [
      "\n",
      "NPC 1 in Windspire, Behemothia:\n",
      "Kael is a lean, sharp-eyed glider pilot in Windspire, with wind-tousled dark hair and a scar across his left cheek from a near-fatal flight accident. He crafts and repairs gliders, his hands always stained with oils and feathers. Deep down, he longs to prove himself and escape the shadow of his legendary father, who disappeared in the mist-shrouded peaks years ago. Kael’s pain lies in his fear of failure, but his desire to soar higher than anyone ever has drives him forward.\n"
     ]
    }
   ],
   "source": [
    "npc = list(town['npcs'].values())[0]\n",
    "\n",
    "print(f'\\nNPC 1 in {town[\"name\"]}, {kingdom[\"name\"]}:\\n{npc[\"description\"]}')"
   ]
  },
  {
   "cell_type": "markdown",
   "id": "0e0e1f96",
   "metadata": {},
   "source": [
    "## Saving the World"
   ]
  },
  {
   "cell_type": "code",
   "execution_count": null,
   "id": "ce502ac4",
   "metadata": {},
   "outputs": [],
   "source": [
    "save_world(world, '../dungeon_game_using_together_api/TheWorld.json')"
   ]
  },
  {
   "cell_type": "markdown",
   "id": "f74fd76b",
   "metadata": {},
   "source": [
    "## A Few Helper Functions"
   ]
  },
  {
   "cell_type": "code",
   "execution_count": null,
   "id": "1873cecc",
   "metadata": {},
   "outputs": [],
   "source": [
    "def get_game_state(inventory={}):\n",
    "    world = load_world('../dungeon_game_using_together_api/TheWorld.json')\n",
    "    kingdom = list(world['kingdoms'].values())[0]\n",
    "    town = list(kingdom['towns'].values())[0]\n",
    "    character = list(town['npcs'].values())[0]\n",
    "    name = world['name']\n",
    "\n",
    "    game_state = {\n",
    "        \"world\": world['description'],\n",
    "        \"kingdom\": kingdom['description'],\n",
    "        \"town\": town['description'],\n",
    "        \"character\": character['description'],\n",
    "        \"start\": name,\n",
    "        \"inventory\": inventory,\n",
    "    }\n",
    "    \n",
    "    return game_state"
   ]
  },
  {
   "cell_type": "code",
   "execution_count": 20,
   "id": "baa0e7e7",
   "metadata": {},
   "outputs": [],
   "source": [
    "def run_action(message, history, game_state):\n",
    "    \n",
    "    if(message == 'start game'):\n",
    "        return game_state['start']\n",
    "        \n",
    "    system_prompt = \"\"\"You are an AI Game master. Your job is to write what \\\n",
    "                       happens next in a player's adventure game. \\\n",
    "                       Instructions: \\\n",
    "                       You must on only write 1-3 sentences in response. \\\n",
    "                       Always write in second person present tense. \\\n",
    "                       Ex. (You look north and see...)\"\"\"\n",
    "    \n",
    "    world_info = f\"\"\"\n",
    "                 World: {game_state['world']}\n",
    "                 Kingdom: {game_state['kingdom']}\n",
    "                 Town: {game_state['town']}\n",
    "                 Your Character: {game_state['character']}\"\"\"\n",
    "\n",
    "    messages = [\n",
    "        {\"role\": \"system\", \"content\": system_prompt},\n",
    "        {\"role\": \"user\", \"content\": world_info},\n",
    "    ]\n",
    "\n",
    "    for action in history:\n",
    "        messages.append({\"role\": \"assistant\", \"content\": action[0]})\n",
    "        messages.append({\"role\": \"user\", \"content\": action[1]})\n",
    "           \n",
    "    messages.append({\"role\": \"user\", \"content\": message})\n",
    "    \n",
    "    client = Together(api_key=get_together_api_key())\n",
    "    model_output = client.chat.completions.create(\n",
    "        model=\"meta-llama/Llama-3-70b-chat-hf\",\n",
    "        messages=messages,\n",
    "    )\n",
    "    \n",
    "    result = model_output.choices[0].message.content\n",
    "    \n",
    "    return result"
   ]
  },
  {
   "cell_type": "code",
   "execution_count": 21,
   "id": "f9c3423b",
   "metadata": {},
   "outputs": [],
   "source": [
    "def start_game(main_loop, share=False):\n",
    "    demo = gr.ChatInterface(\n",
    "           main_loop,\n",
    "           chatbot=gr.Chatbot(height=250, placeholder=\"Type 'start game' to begin\"),\n",
    "           textbox=gr.Textbox(placeholder=\"What do you do next?\", container=False, scale=7),\n",
    "           title=\"AI RPG\",\n",
    "           theme=\"soft\",\n",
    "           examples=[\"Look around\", \"Continue the story\"],\n",
    "           cache_examples=False,\n",
    "           retry_btn=\"Retry\",\n",
    "           undo_btn=\"Undo\",\n",
    "           clear_btn=\"Clear\",\n",
    "           )\n",
    "   \n",
    "    demo.launch(share=share, server_name=\"0.0.0.0\")"
   ]
  },
  {
   "cell_type": "markdown",
   "id": "901cda6e",
   "metadata": {},
   "source": [
    "## Checking for Safety"
   ]
  },
  {
   "cell_type": "code",
   "execution_count": 22,
   "id": "64beef00",
   "metadata": {},
   "outputs": [],
   "source": [
    "everyone_content_policy = {\n",
    "    \"policy\": \"\"\"\n",
    "    O1: Violence and Hate.\n",
    "    Should not\n",
    "    - Express hateful, derogatory, or demeaning sentiments against people based on sensitive personal characteristics.\n",
    "    - Use slurs based on personal characteristics.\n",
    "    - Write gruesome / graphic violence.\n",
    "    Can\n",
    "    - Write tame fantasy violence.\n",
    "    O2: Sexual Content.\n",
    "    Should not\n",
    "    - Write any somewhat sexual content that mentions sexual functions or sexual body parts.\n",
    "    - Write any content that would be inappropriate for kids.\n",
    "    Can\n",
    "    - Write romantic content (including kissing, flirting, etc.)\n",
    "    O3: Self-Harm.\n",
    "    Should not\n",
    "    - Encourage people to harm themselves.\n",
    "    - Romanticize or condone self-harm or suicide.\n",
    "    - Write story depicting suicide.\n",
    "    O4: Profanity.\n",
    "    Should not\n",
    "    - Write with any profane language that wouldn't be appropriate for kids.\n",
    "    Can\n",
    "    - Write with kid appropriate language.\n",
    "    O5: Regulated or Controlled Substances.\n",
    "    Should not\n",
    "    - Write stories that depicts, glorifies, or encourages drug use.\"\"\"\n",
    "}\n",
    "\n",
    "def is_safe(message):\n",
    "    # Build the prompt with embedded values\n",
    "    prompt = f\"\"\"[INST] Task: Check if there is unsafe content in 'user' messages in conversations according to our safety policy with the below categories.\n",
    "    \n",
    "    <BEGIN UNSAFE CONTENT CATEGORIES>\n",
    "    {everyone_content_policy['policy']}\n",
    "    <END UNSAFE CONTENT CATEGORIES>\n",
    "    \n",
    "    <BEGIN CONVERSATION>\n",
    "    user: {message}\n",
    "    \n",
    "    Provide your safety assessment for user in the above conversation:\n",
    "    - First line must read 'safe' or 'unsafe'.\n",
    "    - If unsafe, a second line must include a comma-separated list of violated categories. [/INST]\"\"\"\n",
    "    \n",
    "    client = Together(api_key=get_together_api_key())\n",
    "\n",
    "    response = client.completions.create(\n",
    "        model=\"Meta-Llama/LlamaGuard-2-8b\",\n",
    "        prompt=prompt,\n",
    "    )\n",
    "    \n",
    "    result = response.choices[0].text\n",
    "    \n",
    "    return result.strip() == 'safe'"
   ]
  },
  {
   "cell_type": "markdown",
   "id": "668c3aa7-5594-4267-99f3-1d755477573d",
   "metadata": {
    "id": "173e06c5-4b07-4e3b-a67a-5c3e141beb2c"
   },
   "source": [
    "## Define Inventory Detector"
   ]
  },
  {
   "cell_type": "code",
   "execution_count": 23,
   "id": "bdddb477-7489-496c-ad99-e3def6691a63",
   "metadata": {},
   "outputs": [],
   "source": [
    "system_prompt = \"\"\"You are an AI Game Assistant. \\\n",
    "Your job is to detect changes to a player's \\\n",
    "inventory based on the most recent story and game state.\n",
    "If a player picks up, or gains an item add it to the inventory \\\n",
    "with a positive change_amount.\n",
    "If a player loses an item remove it from their inventory \\\n",
    "with a negative change_amount.\n",
    "Given a player name, inventory and story, return a list of json update \\\n",
    "of the player's inventory in the following form.\n",
    "Only take items that it's clear the player (you) lost.\n",
    "Only give items that it's clear the player gained. \n",
    "Don't make any other item updates.\n",
    "If no items were changed return {\"itemUpdates\": []} \\\n",
    "and nothing else.\n",
    "\n",
    "Response must be in Valid JSON.\n",
    "Don't add items that were already added in the inventory.\n",
    "\n",
    "Inventory Updates:\n",
    "{\n",
    "    \"itemUpdates\": [\n",
    "        {\"name\": <ITEM NAME>, \"change_amount\": <CHANGE AMOUNT>},\n",
    "        ...\n",
    "    ]\n",
    "}\n",
    "\"\"\""
   ]
  },
  {
   "cell_type": "code",
   "execution_count": 24,
   "id": "88fbfee9-f217-459f-ae28-52e6155ddcca",
   "metadata": {},
   "outputs": [],
   "source": [
    "client = Together(api_key=get_together_api_key())"
   ]
  },
  {
   "cell_type": "code",
   "execution_count": 28,
   "id": "2b040f28-d9dc-43ca-a7bb-f7a40447c235",
   "metadata": {},
   "outputs": [],
   "source": [
    "def detect_inventory_changes(game_state, output):\n",
    "    \n",
    "    inventory = game_state['inventory']\n",
    "    \n",
    "    messages = [\n",
    "        {\"role\": \"system\", \"content\": system_prompt},\n",
    "        {\"role\": \"user\", \"content\": f'Current Inventory: {str(inventory)}'},\n",
    "        \n",
    "        {\"role\": \"user\", \"content\": f'Recent Story: {output}'},\n",
    "        {\"role\": \"user\", \"content\": 'Inventory Updates'},\n",
    "    ]\n",
    "    \n",
    "    chat_completion = client.chat.completions.create(\n",
    "        model=\"deepseek-ai/DeepSeek-V3\",\n",
    "        temperature=0.0,\n",
    "        messages=messages,\n",
    "    )\n",
    "    \n",
    "    response = chat_completion.choices[0].message.content.split(\"json\\n\")[-1].rstrip(\"```\")\n",
    "    result = json.loads(response)\n",
    "    return result['itemUpdates']"
   ]
  },
  {
   "cell_type": "code",
   "execution_count": 29,
   "id": "31558768-5d7a-4e7a-8c65-0e48ccdfe05e",
   "metadata": {},
   "outputs": [
    {
     "name": "stdout",
     "output_type": "stream",
     "text": [
      "[{'name': 'gun', 'change_amount': 1}, {'name': 'gold', 'change_amount': -5}]\n"
     ]
    }
   ],
   "source": [
    "game_state = get_game_state()\n",
    "\n",
    "game_state['inventory'] = {\n",
    "    \"gun\": 1,\n",
    "    \"rose\": 2,\n",
    "    \"socks\": 3,\n",
    "    \"pants\": 4,\n",
    "    \"short\": 5,\n",
    "    \"hat\": 6,\n",
    "    \"web\": 7,\n",
    "    \"gold\": 8,\n",
    "}\n",
    "\n",
    "result = detect_inventory_changes(game_state, \"You buy a gun from the merchant for 5 gold.\")\n",
    "\n",
    "print(result)"
   ]
  },
  {
   "cell_type": "code",
   "execution_count": 30,
   "id": "e97e780f-2065-48a2-9a12-ee6ec8b12d91",
   "metadata": {},
   "outputs": [],
   "source": [
    "def update_inventory(inventory, item_updates):\n",
    "    update_msg = ''\n",
    "    \n",
    "    for update in item_updates:\n",
    "        name = update['name']\n",
    "        change_amount = update['change_amount']\n",
    "        \n",
    "        if change_amount > 0:\n",
    "            if name not in inventory:\n",
    "                inventory[name] = change_amount\n",
    "            else:\n",
    "                inventory[name] += change_amount\n",
    "            \n",
    "            update_msg += f'\\nInventory: {name} + {change_amount}'\n",
    "        \n",
    "        elif name in inventory and change_amount < 0:\n",
    "            inventory[name] += change_amount\n",
    "            update_msg += f'\\nInventory: {name} {change_amount}'\n",
    "            \n",
    "        if name in inventory and inventory[name] < 0:\n",
    "            del inventory[name]\n",
    "            \n",
    "    return update_msg"
   ]
  },
  {
   "cell_type": "markdown",
   "id": "0d7ff980-3975-4672-bc39-d173105bd2a7",
   "metadata": {},
   "source": [
    "#### Now include inventory in the story"
   ]
  },
  {
   "cell_type": "code",
   "execution_count": 31,
   "id": "a4b1a67a-174b-467e-bc77-6b0e99e227b7",
   "metadata": {},
   "outputs": [],
   "source": [
    "def run_action(message, history, game_state):\n",
    "    \n",
    "    if(message == 'start game'):\n",
    "        return game_state['start']\n",
    "        \n",
    "    system_prompt = \"\"\"You are an AI Game master. Your job is to write what \\\n",
    "                       happens next in a player's adventure game. \\\n",
    "                       Instructions: \\\n",
    "                       You must on only write 1-3 sentences in response. \\\n",
    "                       Always write in second person present tense. \\\n",
    "                       Ex. (You look north and see...). \\\n",
    "                       Don't let the player use items they don't have in their inventory.\n",
    "                    \"\"\"\n",
    "\n",
    "    world_info = f\"\"\"\n",
    "                 World: {game_state['world']}\n",
    "                 Kingdom: {game_state['kingdom']}\n",
    "                 Town: {game_state['town']}\n",
    "                 Your Character: {game_state['character']}\n",
    "                 Inventory: {json.dumps(game_state['inventory'])}\"\"\"\n",
    "\n",
    "    messages = [\n",
    "        {\"role\": \"system\", \"content\": system_prompt},\n",
    "        {\"role\": \"user\", \"content\": world_info},\n",
    "    ]\n",
    "\n",
    "    for action in history:\n",
    "        messages.append({\"role\": \"assistant\", \"content\": action[0]})\n",
    "        messages.append({\"role\": \"user\", \"content\": action[1]})\n",
    "           \n",
    "    messages.append({\"role\": \"user\", \"content\": message})\n",
    "    model_output = client.chat.completions.create(\n",
    "        model=\"deepseek-ai/DeepSeek-V3\",\n",
    "        messages=messages,\n",
    "    )\n",
    "    \n",
    "    result = model_output.choices[0].message.content\n",
    "    \n",
    "    return result"
   ]
  },
  {
   "cell_type": "markdown",
   "id": "fadd8eb3-ac15-4cc4-8fc2-3591201241af",
   "metadata": {},
   "source": [
    "## Integrate into the Game"
   ]
  },
  {
   "cell_type": "code",
   "execution_count": 32,
   "id": "e8e66b52-8ca6-42aa-850c-3a6d3e5e2885",
   "metadata": {},
   "outputs": [],
   "source": [
    "game_state = get_game_state(inventory={\n",
    "    \"gun\": 1,\n",
    "    \"rose\": 2,\n",
    "    \"socks\": 3,\n",
    "    \"pants\": 4,\n",
    "    \"short\": 5,\n",
    "    \"hat\": 6,\n",
    "    \"web\": 7,\n",
    "    \"gold\": 8,\n",
    "})"
   ]
  },
  {
   "cell_type": "code",
   "execution_count": 33,
   "id": "47fb0923-6de9-49fa-b823-6ba03cb90ce4",
   "metadata": {},
   "outputs": [
    {
     "name": "stdout",
     "output_type": "stream",
     "text": [
      "Running on local URL:  http://0.0.0.0:7860\n",
      "Running on public URL: https://14cf4f84cbc94bd58e.gradio.live\n",
      "\n",
      "This share link expires in 72 hours. For free permanent hosting and GPU upgrades, run `gradio deploy` from Terminal to deploy to Spaces (https://huggingface.co/spaces)\n"
     ]
    },
    {
     "data": {
      "text/html": [
       "<div><iframe src=\"https://14cf4f84cbc94bd58e.gradio.live\" width=\"100%\" height=\"500\" allow=\"autoplay; camera; microphone; clipboard-read; clipboard-write;\" frameborder=\"0\" allowfullscreen></iframe></div>"
      ],
      "text/plain": [
       "<IPython.core.display.HTML object>"
      ]
     },
     "metadata": {},
     "output_type": "display_data"
    }
   ],
   "source": [
    "def main_loop(message, history):\n",
    "    output = run_action(message, history, game_state)\n",
    "    \n",
    "    safe = is_safe(output)\n",
    "    if not safe:\n",
    "        return 'Invalid Output'\n",
    "\n",
    "    item_updates = detect_inventory_changes(game_state, output)\n",
    "    \n",
    "    update_msg = update_inventory(\n",
    "        game_state['inventory'], \n",
    "        item_updates,\n",
    "    )\n",
    "    \n",
    "    output += update_msg\n",
    "\n",
    "    return output\n",
    "\n",
    "start_game(main_loop, True)"
   ]
  }
 ],
 "metadata": {
  "kernelspec": {
   "display_name": "dungeon",
   "language": "python",
   "name": "python3"
  },
  "language_info": {
   "codemirror_mode": {
    "name": "ipython",
    "version": 3
   },
   "file_extension": ".py",
   "mimetype": "text/x-python",
   "name": "python",
   "nbconvert_exporter": "python",
   "pygments_lexer": "ipython3",
   "version": "3.11.11"
  }
 },
 "nbformat": 4,
 "nbformat_minor": 5
}
